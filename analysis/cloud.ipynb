{
 "cells": [
  {
   "cell_type": "code",
   "execution_count": 2,
   "metadata": {
    "collapsed": true
   },
   "outputs": [],
   "source": [
    "from os import path\n",
    "from wordcloud import WordCloud\n",
    "import matplotlib\n",
    "matplotlib.use('TkAgg')\n",
    "import matplotlib.pyplot as plt\n",
    "import datawash"
   ]
  },
  {
   "cell_type": "code",
   "execution_count": 51,
   "metadata": {},
   "outputs": [],
   "source": [
    "# 遍历所有用户，读取需要的信息\n",
    "dicts = [dict() for x in range(7)]\n",
    "\n",
    "jsons = datawash.datajsons()\n",
    "for user in jsons:\n",
    "    try:\n",
    "        if not user['name'] in dicts[0]:\n",
    "            dicts[0][user['name']] = user['voteupCount']\n",
    "            dicts[1][user['name']] = user['thankedCount']\n",
    "            dicts[2][user['name']] = user['followerCount']\n",
    "            dicts[3][user['name']] = user['favoritedCount']\n",
    "            dicts[4][user['name']] = user['answerCount']\n",
    "            dicts[5][user['name']] = user['articlesCount']\n",
    "            dicts[6][user['name']] = user['questionCount']\n",
    "    except:\n",
    "        pass"
   ]
  },
  {
   "cell_type": "code",
   "execution_count": 52,
   "metadata": {},
   "outputs": [
    {
     "name": "stderr",
     "output_type": "stream",
     "text": [
      "c:\\users\\张成悟\\appdata\\local\\programs\\python\\python36\\lib\\site-packages\\matplotlib\\pyplot.py:524: RuntimeWarning: More than 20 figures have been opened. Figures created through the pyplot interface (`matplotlib.pyplot.figure`) are retained until explicitly closed and may consume too much memory. (To control this warning, see the rcParam `figure.max_open_warning`).\n",
      "  max_open_warning, RuntimeWarning)\n"
     ]
    }
   ],
   "source": [
    "# 当前路径\n",
    "p = path.abspath('.')\n",
    "# 字体路径\n",
    "font = path.join(p, 'fonts/fangzhengqingkebenyuesongjianti.TTF')\n",
    "\n",
    "for x in range(7):\n",
    "    # 设置字体，尺寸，生成词云\n",
    "    wc = WordCloud(font_path=font,width=1600,height=900,background_color='white',max_font_size=250).generate_from_frequencies(dicts[x])\n",
    "    \n",
    "    # 绘图\n",
    "    fig,ax = plt.subplots(1,1)\n",
    "    ax.imshow(wc, interpolation=\"bilinear\")\n",
    "    ax.axis(\"off\")\n",
    "    # 存储\n",
    "    wc.to_file('image/cloud'+str(x)+'.png')\n",
    "    fig.show()"
   ]
  },
  {
   "cell_type": "code",
   "execution_count": 40,
   "metadata": {},
   "outputs": [],
   "source": [
    "WordCloud?"
   ]
  }
 ],
 "metadata": {
  "kernelspec": {
   "display_name": "Python 3",
   "language": "python",
   "name": "python3"
  }
 },
 "nbformat": 4,
 "nbformat_minor": 2
}
