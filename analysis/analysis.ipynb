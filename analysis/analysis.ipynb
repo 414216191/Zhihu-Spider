{
 "cells": [
  {
   "cell_type": "code",
   "execution_count": 4,
   "metadata": {},
   "outputs": [
    {
     "name": "stdout",
     "output_type": "stream",
     "text": [
      "Using matplotlib backend: TkAgg\n",
      "Populating the interactive namespace from numpy and matplotlib\n"
     ]
    }
   ],
   "source": [
    "import csv\n",
    "import sys\n",
    "import os.path\n",
    "import json\n",
    "import numpy as np\n",
    "import matplotlib.pyplot as plt\n",
    "matplotlib.rcParams['font.sans-serif'] = ['SimHei']\n",
    "%pylab"
   ]
  },
  {
   "cell_type": "code",
   "execution_count": 2,
   "metadata": {
    "collapsed": true
   },
   "outputs": [],
   "source": [
    "path = sys.path[0]\n",
    "if path == '':\n",
    "    path = os.getcwd()\n",
    "FILEPATH = os.path.join(os.path.dirname(path), 'datafile')  # 此脚本文件上一级路径中的datafile文件夹\n",
    "SUFFIX = '.csv'\n",
    "TABLEHEADER = ['user_url_token', 'user_data_json', 'user_following_list']\n",
    "\n",
    "def datajsons():\n",
    "    \"\"\"生成器，用于遍历所有用户的json数据\n",
    "    \"\"\"\n",
    "    # 数据文件夹不存在，就退出\n",
    "    if not os.path.exists(FILEPATH):\n",
    "        return None\n",
    "    \n",
    "    # 从存储数据文件的文件夹中找出所有csv文件，得到一个包含所有csv绝对路径文件名的list。\n",
    "    csvfilelist = list()\n",
    "    for filename in os.listdir(FILEPATH):\n",
    "        filename = os.path.join(FILEPATH, filename)\n",
    "        if os.path.splitext(filename)[1] == SUFFIX:\n",
    "            with open(filename, 'r', encoding='utf-8') as csvfile:\n",
    "                reader = csv.DictReader(csvfile)\n",
    "                if reader.fieldnames == TABLEHEADER:\n",
    "                    csvfilelist.append(os.path.join(FILEPATH, filename))\n",
    "    csvfilelist.sort()\n",
    "        \n",
    "    # 从上面的列表中，依次遍历每个文件，得到一个包含已经爬取用户的url token的list。\n",
    "    usercrawled = list()\n",
    "    for filename in csvfilelist:\n",
    "        with open(filename, 'r', encoding='utf-8') as csvfile:\n",
    "            reader = csv.DictReader(csvfile)\n",
    "            for row in reader:\n",
    "                user_data_json = json.loads(row[TABLEHEADER[1]])\n",
    "                yield user_data_json\n",
    "    return None"
   ]
  },
  {
   "cell_type": "code",
   "execution_count": 3,
   "metadata": {
    "collapsed": true
   },
   "outputs": [],
   "source": [
    "# \n",
    "voteupCountList = list()\n",
    "jsons = datajsons()\n",
    "for user in jsons:\n",
    "    try:\n",
    "        voteupCountList.append(user['voteupCount'])\n",
    "    except:\n",
    "        pass"
   ]
  },
  {
   "cell_type": "code",
   "execution_count": 69,
   "metadata": {
    "collapsed": true
   },
   "outputs": [],
   "source": [
    "black = '#212121'\n",
    "gray = '#727272'\n",
    "red1 = '#D32F2F'\n",
    "red2 = '#F44336'\n",
    "orange1 = '#FF9500'\n",
    "orange2 = '#FFb44A'\n",
    "orange3 = '#ffd191'\n",
    "orange4 = '#FFF1DE'"
   ]
  },
  {
   "cell_type": "code",
   "execution_count": 118,
   "metadata": {},
   "outputs": [],
   "source": [
    "fig, axes = plt.subplots(3,2)\n",
    "fig.set_size_inches(16,9)\n",
    "fig.suptitle('72万知乎用户获得赞同数分布直方图', fontsize=16, color=red1)\n",
    "subplots_adjust(left=0.1, bottom=0.1, right=0.9, top=0.9, wspace=0.2, hspace=0.5)\n",
    "\n",
    "tempList = [x for x in voteupCountList if x <= 100]\n",
    "voteupCountArray = np.array(tempList)\n",
    "axes[0,0].hist(voteupCountArray, bins=100, color=red2, alpha = 0.7)\n",
    "axes[0,0].set_ylim(0,50000)\n",
    "axes[0,0].set_xlim(0,100)\n",
    "axes[0,0].set_title('100赞同以下用户分布（组距：1）',color=red1)\n",
    "\n",
    "tempList = [x for x in voteupCountList if x > 100 and x <= 1000]\n",
    "voteupCountArray = np.array(tempList)\n",
    "axes[0,1].hist(voteupCountArray, bins=180, color=red2, alpha = 0.7)\n",
    "axes[0,1].set_xlim(100,1000)\n",
    "axes[0,1].set_title('100-1000赞同用户分布（组距：5）',color=red1)\n",
    "\n",
    "tempList = [x for x in voteupCountList if x > 1000 and x <= 10000]\n",
    "voteupCountArray = np.array(tempList)\n",
    "axes[1,0].hist(voteupCountArray, bins=180, color=red2, alpha = 0.7)\n",
    "axes[1,0].set_xlim(1000,10000)\n",
    "axes[1,0].set_title('1000-10000赞同用户分布（组距：50）',color=red1)\n",
    "\n",
    "tempList = [x for x in voteupCountList if x > 10000 and x <= 100000]\n",
    "voteupCountArray = np.array(tempList)\n",
    "axes[1,1].hist(voteupCountArray, bins=180, color=red2, alpha = 0.7)\n",
    "axes[1,1].set_xlim(10000,100000)\n",
    "axes[1,1].set_title('1万-10万赞同用户分布（组距：500）',color=red1)\n",
    "\n",
    "tempList = [x for x in voteupCountList if x > 100000 and x <= 1000000]\n",
    "voteupCountArray = np.array(tempList)\n",
    "axes[2,0].hist(voteupCountArray, bins=180, color=red2, alpha = 0.7)\n",
    "axes[2,0].set_xlim(100000,1000000)\n",
    "axes[2,0].set_title('10万-100万赞同用户分布（组距：5000）',color=red1)\n",
    "\n",
    "tempList = [x for x in voteupCountList if x > 1000000]\n",
    "voteupCountArray = np.array(tempList)\n",
    "axes[2,1].hist(voteupCountArray, bins=180, color=red2, alpha = 0.7)\n",
    "axes[2,1].set_xlim(1000000,4000000)\n",
    "axes[2,1].set_title('100万以上赞同用户分布（组距：50000）',color=red1)\n",
    "\n",
    "for i in axes:\n",
    "    for j in i:\n",
    "        j.set_xlabel('获得赞同数（次）',color=red1)\n",
    "        j.set_ylabel('用户数量（人）',color=red1)\n",
    "        j.set_facecolor(orange4)\n",
    "        j.grid(True, linestyle='--')"
   ]
  },
  {
   "cell_type": "code",
   "execution_count": null,
   "metadata": {},
   "outputs": [],
   "source": []
  },
  {
   "cell_type": "code",
   "execution_count": null,
   "metadata": {
    "collapsed": true
   },
   "outputs": [],
   "source": []
  },
  {
   "cell_type": "code",
   "execution_count": null,
   "metadata": {
    "collapsed": true
   },
   "outputs": [],
   "source": []
  },
  {
   "cell_type": "code",
   "execution_count": null,
   "metadata": {
    "collapsed": true
   },
   "outputs": [],
   "source": []
  }
 ],
 "metadata": {
  "kernelspec": {
   "display_name": "Python 3",
   "language": "python",
   "name": "python3"
  },
  "language_info": {
   "codemirror_mode": {
    "name": "ipython",
    "version": 3
   },
   "file_extension": ".py",
   "mimetype": "text/x-python",
   "name": "python",
   "nbconvert_exporter": "python",
   "pygments_lexer": "ipython3",
   "version": "3.6.1"
  }
 },
 "nbformat": 4,
 "nbformat_minor": 2
}
