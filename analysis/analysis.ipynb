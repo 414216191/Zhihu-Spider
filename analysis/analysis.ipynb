{
 "cells": [
  {
   "cell_type": "code",
   "execution_count": 35,
   "metadata": {},
   "outputs": [],
   "source": [
    "import csv\n",
    "import sys\n",
    "import os.path\n",
    "import json\n",
    "import matplotlib\n",
    "matplotlib.use('TkAgg')\n",
    "from mpl_toolkits.mplot3d import Axes3D\n",
    "import matplotlib.pyplot as plt\n",
    "import numpy as np\n",
    "matplotlib.rcParams['font.sans-serif'] = ['SimHei']"
   ]
  },
  {
   "cell_type": "code",
   "execution_count": 36,
   "metadata": {
    "collapsed": true
   },
   "outputs": [],
   "source": [
    "def datajsons():\n",
    "    \"\"\"生成器，用于遍历所有用户的json数据\n",
    "    \"\"\"\n",
    "    path = sys.path[0]\n",
    "    if path == '':\n",
    "        path = os.getcwd()\n",
    "    FILEPATH = os.path.join(os.path.dirname(path), 'datafile')  # 此脚本文件上一级路径中的datafile文件夹\n",
    "    SUFFIX = '.csv'\n",
    "    TABLEHEADER = ['user_url_token', 'user_data_json', 'user_following_list']\n",
    "    \n",
    "    # 数据文件夹不存在，就退出\n",
    "    if not os.path.exists(FILEPATH):\n",
    "        return None\n",
    "    \n",
    "    # 从存储数据文件的文件夹中找出所有csv文件，得到一个包含所有csv绝对路径文件名的list。\n",
    "    csvfilelist = list()\n",
    "    for filename in os.listdir(FILEPATH):\n",
    "        filename = os.path.join(FILEPATH, filename)\n",
    "        if os.path.splitext(filename)[1] == SUFFIX:\n",
    "            with open(filename, 'r', encoding='utf-8') as csvfile:\n",
    "                reader = csv.DictReader(csvfile)\n",
    "                if reader.fieldnames == TABLEHEADER:\n",
    "                    csvfilelist.append(os.path.join(FILEPATH, filename))\n",
    "    csvfilelist.sort()\n",
    "        \n",
    "    # 从上面的列表中，依次遍历每个文件，得到一个包含已经爬取用户的url token的list。\n",
    "    usercrawled = list()\n",
    "    for filename in csvfilelist:\n",
    "        with open(filename, 'r', encoding='utf-8') as csvfile:\n",
    "            reader = csv.DictReader(csvfile)\n",
    "            for row in reader:\n",
    "                user_data_json = json.loads(row[TABLEHEADER[1]])\n",
    "                yield user_data_json\n",
    "    return None"
   ]
  },
  {
   "cell_type": "code",
   "execution_count": 37,
   "metadata": {
    "collapsed": true
   },
   "outputs": [],
   "source": [
    "# 遍历所有用户，读取需要的信息\n",
    "voteupCountList = list() # 获得赞同数\n",
    "thankedCountList = list() # 获得感谢数\n",
    "followingCountList = list() # 该用户关注的用户数\n",
    "followerCountList = list() # 该用户被其他用户关注数\n",
    "favoriteCountList = list() # 收藏数\n",
    "favoritedCountList = list() # 被收藏数\n",
    "answerCountList = list() # 回答数\n",
    "articlesCountList = list() # 文章数\n",
    "questionCountList = list() # 提问数\n",
    "followingColumnsCountList = list() # 关注专栏数\n",
    "followingFavlistsCountList = list() #  关注收藏夹数\n",
    "followingTopicCountList = list() # 关注话题数\n",
    "followingQuestionCountList = list() # 关注问题数\n",
    "\n",
    "jsons = datajsons()\n",
    "for user in jsons:\n",
    "    try:\n",
    "        voteupCountList.append(user['voteupCount'])\n",
    "        thankedCountList.append(user['thankedCount'])\n",
    "        followingCountList.append(user['followingCount'])\n",
    "        followerCountList.append(user['followerCount'])\n",
    "        favoriteCountList.append(user['favoriteCount'])\n",
    "        favoritedCountList.append(user['favoritedCount'])\n",
    "        answerCountList.append(user['answerCount'])\n",
    "        articlesCountList.append(user['articlesCount'])\n",
    "        questionCountList.append(user['questionCount'])\n",
    "        followingColumnsCountList.append(user['followingColumnsCount'])\n",
    "        followingFavlistsCountList.append(user['followingFavlistsCount'])\n",
    "        followingTopicCountList.append(user['followingTopicCount'])\n",
    "        followingQuestionCountList.append(user['followingQuestionCount'])\n",
    "    except:\n",
    "        pass"
   ]
  },
  {
   "cell_type": "code",
   "execution_count": 39,
   "metadata": {
    "collapsed": true
   },
   "outputs": [],
   "source": [
    "black = '#212121'\n",
    "gray = '#727272'\n",
    "red1 = '#D32F2F'\n",
    "red2 = '#F44336'\n",
    "orange1 = '#FF9500'\n",
    "orange2 = '#FFb44A'\n",
    "orange3 = '#ffd191'\n",
    "orange4 = '#FFF1DE'"
   ]
  },
  {
   "cell_type": "code",
   "execution_count": 44,
   "metadata": {},
   "outputs": [],
   "source": [
    "# 72万知乎用户获得赞同数分布直方图\n",
    "fig, axes = plt.subplots(3,2)\n",
    "fig.set_size_inches(18,10)\n",
    "fig.suptitle('72万知乎用户获得赞同数和感谢数分布', fontsize=16, color=red1)\n",
    "fig.subplots_adjust(left=0.1, bottom=0.1, right=0.9, top=0.9, wspace=0.2, hspace=0.5)\n",
    "\n",
    "# 把一个二维子图数组压扁\n",
    "subplotlist = list()\n",
    "for i in axes:\n",
    "    for j in i:\n",
    "        subplotlist.append(j)\n",
    "\n",
    "# 每个直方图的赞数统计范围\n",
    "edge = [[0,100],\n",
    "       [100,1000],\n",
    "       [1000,10000],\n",
    "       [10000,100000],\n",
    "       [100000,1000000],\n",
    "       [1000000,4000000]\n",
    "       ]\n",
    "# 每个直方图的组距\n",
    "widthlist = [1, 5, 50, 500, 5000, 50000]\n",
    "\n",
    "for i in range(len(subplotlist)):\n",
    "    tempList = [x for x in voteupCountList if x>=edge[i][0] and x<edge[i][1]]\n",
    "    voteupCountArray = np.array(tempList)\n",
    "    tempList = [x for x in thankedCountList if x>=edge[i][0] and x<edge[i][1]]\n",
    "    thankedCountArray = np.array(tempList)\n",
    "    subplotlist[i].hist([voteupCountArray,thankedCountArray], normed=0, histtype='barstacked', \n",
    "                        bins=int((edge[i][1]-edge[i][0])/widthlist[i]), color=[red1,'k'], alpha = 0.5)\n",
    "    subplotlist[i].set_xlim(edge[i][0], edge[i][1])\n",
    "    subplotlist[i].set_title('获得%d-%d赞同/感谢用户分布（组距：%d）'%(edge[i][0],edge[i][1],widthlist[i]), color=red1)\n",
    "    subplotlist[i].set_xlabel('获得赞同/感谢（次）',color=red1)\n",
    "    subplotlist[i].set_ylabel('用户数量（人）',color=red1)\n",
    "    subplotlist[i].set_facecolor(orange4)\n",
    "    subplotlist[i].grid(True, linestyle='--')\n",
    "\n",
    "# 微调\n",
    "axes[0,0].set_ylim(0,300000)\n",
    "fig.show()"
   ]
  },
  {
   "cell_type": "code",
   "execution_count": null,
   "metadata": {
    "collapsed": true
   },
   "outputs": [],
   "source": []
  },
  {
   "cell_type": "code",
   "execution_count": null,
   "metadata": {
    "collapsed": true
   },
   "outputs": [],
   "source": []
  },
  {
   "cell_type": "code",
   "execution_count": null,
   "metadata": {
    "collapsed": true
   },
   "outputs": [],
   "source": []
  },
  {
   "cell_type": "code",
   "execution_count": null,
   "metadata": {
    "collapsed": true
   },
   "outputs": [],
   "source": []
  },
  {
   "cell_type": "code",
   "execution_count": null,
   "metadata": {
    "collapsed": true
   },
   "outputs": [],
   "source": []
  },
  {
   "cell_type": "code",
   "execution_count": null,
   "metadata": {
    "collapsed": true
   },
   "outputs": [],
   "source": []
  },
  {
   "cell_type": "code",
   "execution_count": null,
   "metadata": {
    "collapsed": true
   },
   "outputs": [],
   "source": []
  },
  {
   "cell_type": "code",
   "execution_count": null,
   "metadata": {},
   "outputs": [],
   "source": []
  },
  {
   "cell_type": "code",
   "execution_count": 38,
   "metadata": {
    "collapsed": true
   },
   "outputs": [],
   "source": []
  },
  {
   "cell_type": "code",
   "execution_count": 43,
   "metadata": {},
   "outputs": [],
   "source": [
    "fig = plt.figure()\n",
    "ax = fig.add_subplot(111, projection='3d')\n",
    "\n",
    "x = np.array(range(20))\n",
    "h1 = np.abs(np.random.randn(20))\n",
    "h2 = np.abs(np.random.randn(20))\n",
    "ax.bar(x, h1, 2, zdir='y', color=red1, alpha=0.6)\n",
    "ax.bar(x, h2, 1, zdir='y', color=orange1, alpha=0.8)\n",
    "ax.set_ylim(0,3)\n",
    "fig.show()"
   ]
  },
  {
   "cell_type": "code",
   "execution_count": 45,
   "metadata": {},
   "outputs": [
    {
     "ename": "KeyboardInterrupt",
     "evalue": "",
     "output_type": "error",
     "traceback": [
      "\u001b[1;31m---------------------------------------------------------------------------\u001b[0m",
      "\u001b[1;31mKeyboardInterrupt\u001b[0m                         Traceback (most recent call last)",
      "\u001b[1;32m<ipython-input-45-6fd9b7fd6b66>\u001b[0m in \u001b[0;36m<module>\u001b[1;34m()\u001b[0m\n\u001b[0;32m     29\u001b[0m                        linewidth=0, antialiased=False, shade=False)\n\u001b[0;32m     30\u001b[0m \u001b[1;33m\u001b[0m\u001b[0m\n\u001b[1;32m---> 31\u001b[1;33m \u001b[0mplt\u001b[0m\u001b[1;33m.\u001b[0m\u001b[0mshow\u001b[0m\u001b[1;33m(\u001b[0m\u001b[1;33m)\u001b[0m\u001b[1;33m\u001b[0m\u001b[0m\n\u001b[0m",
      "\u001b[1;32mc:\\users\\张成悟\\appdata\\local\\programs\\python\\python36\\lib\\site-packages\\matplotlib\\pyplot.py\u001b[0m in \u001b[0;36mshow\u001b[1;34m(*args, **kw)\u001b[0m\n\u001b[0;32m    251\u001b[0m     \"\"\"\n\u001b[0;32m    252\u001b[0m     \u001b[1;32mglobal\u001b[0m \u001b[0m_show\u001b[0m\u001b[1;33m\u001b[0m\u001b[0m\n\u001b[1;32m--> 253\u001b[1;33m     \u001b[1;32mreturn\u001b[0m \u001b[0m_show\u001b[0m\u001b[1;33m(\u001b[0m\u001b[1;33m*\u001b[0m\u001b[0margs\u001b[0m\u001b[1;33m,\u001b[0m \u001b[1;33m**\u001b[0m\u001b[0mkw\u001b[0m\u001b[1;33m)\u001b[0m\u001b[1;33m\u001b[0m\u001b[0m\n\u001b[0m\u001b[0;32m    254\u001b[0m \u001b[1;33m\u001b[0m\u001b[0m\n\u001b[0;32m    255\u001b[0m \u001b[1;33m\u001b[0m\u001b[0m\n",
      "\u001b[1;32mc:\\users\\张成悟\\appdata\\local\\programs\\python\\python36\\lib\\site-packages\\matplotlib\\backend_bases.py\u001b[0m in \u001b[0;36m__call__\u001b[1;34m(self, block)\u001b[0m\n\u001b[0;32m    191\u001b[0m \u001b[1;33m\u001b[0m\u001b[0m\n\u001b[0;32m    192\u001b[0m         \u001b[1;32mif\u001b[0m \u001b[1;32mnot\u001b[0m \u001b[0mis_interactive\u001b[0m\u001b[1;33m(\u001b[0m\u001b[1;33m)\u001b[0m \u001b[1;32mor\u001b[0m \u001b[0mget_backend\u001b[0m\u001b[1;33m(\u001b[0m\u001b[1;33m)\u001b[0m \u001b[1;33m==\u001b[0m \u001b[1;34m'WebAgg'\u001b[0m\u001b[1;33m:\u001b[0m\u001b[1;33m\u001b[0m\u001b[0m\n\u001b[1;32m--> 193\u001b[1;33m             \u001b[0mself\u001b[0m\u001b[1;33m.\u001b[0m\u001b[0mmainloop\u001b[0m\u001b[1;33m(\u001b[0m\u001b[1;33m)\u001b[0m\u001b[1;33m\u001b[0m\u001b[0m\n\u001b[0m\u001b[0;32m    194\u001b[0m \u001b[1;33m\u001b[0m\u001b[0m\n\u001b[0;32m    195\u001b[0m     \u001b[1;32mdef\u001b[0m \u001b[0mmainloop\u001b[0m\u001b[1;33m(\u001b[0m\u001b[0mself\u001b[0m\u001b[1;33m)\u001b[0m\u001b[1;33m:\u001b[0m\u001b[1;33m\u001b[0m\u001b[0m\n",
      "\u001b[1;32mc:\\users\\张成悟\\appdata\\local\\programs\\python\\python36\\lib\\site-packages\\matplotlib\\backends\\backend_tkagg.py\u001b[0m in \u001b[0;36mmainloop\u001b[1;34m(self)\u001b[0m\n\u001b[0;32m     69\u001b[0m \u001b[1;32mclass\u001b[0m \u001b[0mShow\u001b[0m\u001b[1;33m(\u001b[0m\u001b[0mShowBase\u001b[0m\u001b[1;33m)\u001b[0m\u001b[1;33m:\u001b[0m\u001b[1;33m\u001b[0m\u001b[0m\n\u001b[0;32m     70\u001b[0m     \u001b[1;32mdef\u001b[0m \u001b[0mmainloop\u001b[0m\u001b[1;33m(\u001b[0m\u001b[0mself\u001b[0m\u001b[1;33m)\u001b[0m\u001b[1;33m:\u001b[0m\u001b[1;33m\u001b[0m\u001b[0m\n\u001b[1;32m---> 71\u001b[1;33m         \u001b[0mTk\u001b[0m\u001b[1;33m.\u001b[0m\u001b[0mmainloop\u001b[0m\u001b[1;33m(\u001b[0m\u001b[1;33m)\u001b[0m\u001b[1;33m\u001b[0m\u001b[0m\n\u001b[0m\u001b[0;32m     72\u001b[0m \u001b[1;33m\u001b[0m\u001b[0m\n\u001b[0;32m     73\u001b[0m \u001b[0mshow\u001b[0m \u001b[1;33m=\u001b[0m \u001b[0mShow\u001b[0m\u001b[1;33m(\u001b[0m\u001b[1;33m)\u001b[0m\u001b[1;33m\u001b[0m\u001b[0m\n",
      "\u001b[1;32mc:\\users\\张成悟\\appdata\\local\\programs\\python\\python36\\lib\\tkinter\\__init__.py\u001b[0m in \u001b[0;36mmainloop\u001b[1;34m(n)\u001b[0m\n\u001b[0;32m    555\u001b[0m \u001b[1;32mdef\u001b[0m \u001b[0mmainloop\u001b[0m\u001b[1;33m(\u001b[0m\u001b[0mn\u001b[0m\u001b[1;33m=\u001b[0m\u001b[1;36m0\u001b[0m\u001b[1;33m)\u001b[0m\u001b[1;33m:\u001b[0m\u001b[1;33m\u001b[0m\u001b[0m\n\u001b[0;32m    556\u001b[0m     \u001b[1;34m\"\"\"Run the main loop of Tcl.\"\"\"\u001b[0m\u001b[1;33m\u001b[0m\u001b[0m\n\u001b[1;32m--> 557\u001b[1;33m     \u001b[0m_default_root\u001b[0m\u001b[1;33m.\u001b[0m\u001b[0mtk\u001b[0m\u001b[1;33m.\u001b[0m\u001b[0mmainloop\u001b[0m\u001b[1;33m(\u001b[0m\u001b[0mn\u001b[0m\u001b[1;33m)\u001b[0m\u001b[1;33m\u001b[0m\u001b[0m\n\u001b[0m\u001b[0;32m    558\u001b[0m \u001b[1;33m\u001b[0m\u001b[0m\n\u001b[0;32m    559\u001b[0m \u001b[0mgetint\u001b[0m \u001b[1;33m=\u001b[0m \u001b[0mint\u001b[0m\u001b[1;33m\u001b[0m\u001b[0m\n",
      "\u001b[1;31mKeyboardInterrupt\u001b[0m: "
     ]
    }
   ],
   "source": [
    "\"\"\"\n",
    "Demonstrates using custom hillshading in a 3D surface plot.\n",
    "\"\"\"\n",
    "from mpl_toolkits.mplot3d import Axes3D\n",
    "from matplotlib import cbook\n",
    "from matplotlib import cm\n",
    "from matplotlib.colors import LightSource\n",
    "import matplotlib.pyplot as plt\n",
    "import numpy as np\n",
    "\n",
    "filename = cbook.get_sample_data('jacksboro_fault_dem.npz', asfileobj=False)\n",
    "with np.load(filename) as dem:\n",
    "    z = dem['elevation']\n",
    "    nrows, ncols = z.shape\n",
    "    x = np.linspace(dem['xmin'], dem['xmax'], ncols)\n",
    "    y = np.linspace(dem['ymin'], dem['ymax'], nrows)\n",
    "    x, y = np.meshgrid(x, y)\n",
    "\n",
    "region = np.s_[5:50, 5:50]\n",
    "x, y, z = x[region], y[region], z[region]\n",
    "\n",
    "fig, ax = plt.subplots(subplot_kw=dict(projection='3d'))\n",
    "\n",
    "ls = LightSource(270, 45)\n",
    "# To use a custom hillshading mode, override the built-in shading and pass\n",
    "# in the rgb colors of the shaded surface calculated from \"shade\".\n",
    "rgb = ls.shade(z, cmap=cm.gist_earth, vert_exag=0.1, blend_mode='soft')\n",
    "surf = ax.plot_surface(x, y, z, rstride=1, cstride=1, facecolors=rgb,\n",
    "                       linewidth=0, antialiased=False, shade=False)\n",
    "\n",
    "plt.show()"
   ]
  },
  {
   "cell_type": "code",
   "execution_count": null,
   "metadata": {
    "collapsed": true
   },
   "outputs": [],
   "source": []
  }
 ],
 "metadata": {
  "kernelspec": {
   "display_name": "Python 3",
   "language": "python",
   "name": "python3"
  },
  "language_info": {
   "codemirror_mode": {
    "name": "ipython",
    "version": 3
   },
   "file_extension": ".py",
   "mimetype": "text/x-python",
   "name": "python",
   "nbconvert_exporter": "python",
   "pygments_lexer": "ipython3",
   "version": "3.6.1"
  }
 },
 "nbformat": 4,
 "nbformat_minor": 2
}
