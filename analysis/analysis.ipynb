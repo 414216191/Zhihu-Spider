{
 "cells": [
  {
   "cell_type": "code",
   "execution_count": 1,
   "metadata": {
    "collapsed": true
   },
   "outputs": [],
   "source": [
    "import csv\n",
    "import sys\n",
    "import os.path\n",
    "import json\n",
    "import numpy as np\n",
    "import matplotlib.pyplot as plt"
   ]
  },
  {
   "cell_type": "code",
   "execution_count": 2,
   "metadata": {
    "collapsed": true
   },
   "outputs": [],
   "source": [
    "path = sys.path[0]\n",
    "if path == '':\n",
    "    path = os.getcwd()\n",
    "FILEPATH = os.path.join(os.path.dirname(path), 'datafile')  # 此脚本文件上一级路径中的datafile文件夹\n",
    "SUFFIX = '.csv'\n",
    "TABLEHEADER = ['user_url_token', 'user_data_json', 'user_following_list']\n",
    "\n",
    "def datajsons():\n",
    "    \"\"\"迭代器，用于遍历所有用户的json数据\n",
    "    \"\"\"\n",
    "    # 数据文件夹不存在，就退出\n",
    "    if not os.path.exists(FILEPATH):\n",
    "        return None\n",
    "    \n",
    "    # 从存储数据文件的文件夹中找出所有csv文件，得到一个包含所有csv绝对路径文件名的list。\n",
    "    csvfilelist = list()\n",
    "    for filename in os.listdir(FILEPATH):\n",
    "        filename = os.path.join(FILEPATH, filename)\n",
    "        if os.path.splitext(filename)[1] == SUFFIX:\n",
    "            with open(filename, 'r', encoding='utf-8') as csvfile:\n",
    "                reader = csv.DictReader(csvfile)\n",
    "                if reader.fieldnames == TABLEHEADER:\n",
    "                    csvfilelist.append(os.path.join(FILEPATH, filename))\n",
    "    csvfilelist.sort()\n",
    "        \n",
    "    # 从上面的列表中，依次遍历每个文件，得到一个包含已经爬取用户的url token的list。\n",
    "    usercrawled = list()\n",
    "    for filename in csvfilelist:\n",
    "        with open(filename, 'r', encoding='utf-8') as csvfile:\n",
    "            reader = csv.DictReader(csvfile)\n",
    "            for row in reader:\n",
    "                user_data_json = json.loads(row[TABLEHEADER[1]])\n",
    "                yield user_data_json\n",
    "    return None"
   ]
  },
  {
   "cell_type": "code",
   "execution_count": 3,
   "metadata": {},
   "outputs": [],
   "source": [
    "# \n",
    "voteupCountList = list()\n",
    "jsons = datajsons()\n",
    "for user in jsons:\n",
    "    try:\n",
    "        voteupCountList.append(user['voteupCount'])\n",
    "    except:\n",
    "        pass"
   ]
  },
  {
   "cell_type": "code",
   "execution_count": 19,
   "metadata": {},
   "outputs": [
    {
     "name": "stdout",
     "output_type": "stream",
     "text": [
      "Using matplotlib backend: TkAgg\n",
      "Populating the interactive namespace from numpy and matplotlib\n"
     ]
    },
    {
     "data": {
      "text/plain": [
       "(1000000, 4000000)"
      ]
     },
     "execution_count": 19,
     "metadata": {},
     "output_type": "execute_result"
    }
   ],
   "source": [
    "%pylab\n",
    "fig = plt.figure()\n",
    "\n",
    "ax1 = fig.add_subplot(2,3,1)\n",
    "tempList = [x for x in voteupCountList if x > 0 and x <= 100]\n",
    "voteupCountArray = np.array(tempList)\n",
    "ax1.hist(voteupCountArray, bins=100 , color='k' ,alpha = 0.5)\n",
    "plt.xlim(0,100)\n",
    "\n",
    "ax2 = fig.add_subplot(2,3,2)\n",
    "tempList = [x for x in voteupCountList if x > 100 and x <= 1000]\n",
    "voteupCountArray = np.array(tempList)\n",
    "ax2.hist(voteupCountArray, bins=180 , color='k' ,alpha = 0.5)\n",
    "plt.xlim(100,1000)\n",
    "\n",
    "ax3 = fig.add_subplot(2,3,3)\n",
    "tempList = [x for x in voteupCountList if x > 1000 and x <= 10000]\n",
    "voteupCountArray = np.array(tempList)\n",
    "ax3.hist(voteupCountArray, bins=180 , color='k' ,alpha = 0.5)\n",
    "plt.xlim(1000,10000)\n",
    "\n",
    "ax4 = fig.add_subplot(2,3,4)\n",
    "tempList = [x for x in voteupCountList if x > 10000 and x <= 100000]\n",
    "voteupCountArray = np.array(tempList)\n",
    "ax4.hist(voteupCountArray, bins=180 , color='k' ,alpha = 0.5)\n",
    "plt.xlim(10000,100000)\n",
    "\n",
    "ax5 = fig.add_subplot(2,3,5)\n",
    "tempList = [x for x in voteupCountList if x > 100000 and x <= 1000000]\n",
    "voteupCountArray = np.array(tempList)\n",
    "ax5.hist(voteupCountArray, bins=180 , color='k' ,alpha = 0.5)\n",
    "plt.xlim(100000,1000000)\n",
    "\n",
    "ax6 = fig.add_subplot(2,3,6)\n",
    "tempList = [x for x in voteupCountList if x > 1000000]\n",
    "voteupCountArray = np.array(tempList)\n",
    "ax6.hist(voteupCountArray, bins=180 , color='k' ,alpha = 0.5)\n",
    "plt.xlim(1000000,4000000)\n"
   ]
  },
  {
   "cell_type": "code",
   "execution_count": null,
   "metadata": {},
   "outputs": [],
   "source": []
  },
  {
   "cell_type": "code",
   "execution_count": null,
   "metadata": {},
   "outputs": [],
   "source": []
  },
  {
   "cell_type": "code",
   "execution_count": null,
   "metadata": {},
   "outputs": [],
   "source": []
  },
  {
   "cell_type": "code",
   "execution_count": null,
   "metadata": {},
   "outputs": [],
   "source": []
  },
  {
   "cell_type": "code",
   "execution_count": null,
   "metadata": {
    "collapsed": true
   },
   "outputs": [],
   "source": []
  }
 ],
 "metadata": {
  "kernelspec": {
   "display_name": "Python 3",
   "language": "python",
   "name": "python3"
  },
  "language_info": {
   "codemirror_mode": {
    "name": "ipython",
    "version": 3
   },
   "file_extension": ".py",
   "mimetype": "text/x-python",
   "name": "python",
   "nbconvert_exporter": "python",
   "pygments_lexer": "ipython3",
   "version": "3.6.1"
  }
 },
 "nbformat": 4,
 "nbformat_minor": 2
}
