{
 "cells": [
  {
   "cell_type": "code",
   "execution_count": 1,
   "metadata": {
    "collapsed": true
   },
   "outputs": [],
   "source": [
    "import matplotlib\n",
    "matplotlib.use('TkAgg')\n",
    "from mpl_toolkits.mplot3d import Axes3D\n",
    "from matplotlib import cbook\n",
    "from matplotlib import cm\n",
    "from matplotlib.colors import LightSource\n",
    "import matplotlib.pyplot as plt\n",
    "import numpy as np\n",
    "matplotlib.rcParams['font.sans-serif'] = ['SimHei']\n",
    "import datawash"
   ]
  },
  {
   "cell_type": "code",
   "execution_count": 2,
   "metadata": {},
   "outputs": [],
   "source": [
    "# 遍历所有用户，读取需要的信息\n",
    "list1 = list()\n",
    "list2 = list()\n",
    "list3 = list()\n",
    "\n",
    "jsons = datawash.datajsons()\n",
    "for user in jsons:\n",
    "    try:\n",
    "        list1.append([user['voteupCount'],user['thankedCount']])\n",
    "        list2.append([user['followingCount'],user['followerCount']])\n",
    "        list3.append([user['favoriteCount'],user['favoritedCount']])\n",
    "    except:\n",
    "        pass"
   ]
  },
  {
   "cell_type": "code",
   "execution_count": null,
   "metadata": {},
   "outputs": [],
   "source": [
    "# 1000-10000关注数和关注者数空间分布\n",
    "fig = plt.figure()  \n",
    "ax = Axes3D(fig)\n",
    "\n",
    "# 生成网格上所有点\n",
    "step = 200 # 步长\n",
    "start = 1000 # 起始点\n",
    "\n",
    "X = np.arange(1000, 10000, step)\n",
    "Y = np.arange(1000, 10000, step)  \n",
    "X, Y = np.meshgrid(X, Y)\n",
    "\n",
    "Z = np.zeros_like(X)\n",
    "for i in list2:\n",
    "    if i[0] >= 1000 and i[0] < 10000 and i[1] >= 1000 and i[1] < 10000:\n",
    "        Z[int((i[0]-1000)/step),int((i[1]-1000)/step)] += 1\n",
    "\n",
    "ls = matplotlib.colors.LightSource(270, -60)\n",
    "rgb = ls.shade(Z, cmap=plt.cm.gist_earth_r,vert_exag=0.1, blend_mode='soft')\n",
    "ax.plot_surface(X, Y, Z, rstride=1, cstride=1, facecolors=rgb,linewidth=0, antialiased=True, shade=True)\n",
    "\n",
    "plt.show()  "
   ]
  },
  {
   "cell_type": "code",
   "execution_count": null,
   "metadata": {},
   "outputs": [],
   "source": [
    "# 100-1000关注数和关注者数空间分布\n",
    "fig = plt.figure()  \n",
    "ax = Axes3D(fig)\n",
    "\n",
    "# 生成网格上所有点\n",
    "X = np.arange(100, 1000, 20)\n",
    "Y = np.arange(100, 1000, 20)  \n",
    "X, Y = np.meshgrid(X, Y)\n",
    "\n",
    "Z = np.zeros_like(X)\n",
    "for i in list2:\n",
    "    if i[0] >= 100 and i[0] < 1000 and i[1] >= 100 and i[1] < 1000:\n",
    "        Z[int((i[0]-100)/20),int((i[1]-100)/20)] += 1\n",
    "\n",
    "ls = matplotlib.colors.LightSource(270, -60)\n",
    "rgb = ls.shade(Z, cmap=plt.cm.gist_earth_r,vert_exag=0.1, blend_mode='soft')\n",
    "ax.plot_surface(X, Y, Z, rstride=1, cstride=1, facecolors=rgb,linewidth=0, antialiased=True, shade=True)\n",
    "\n",
    "plt.show()  "
   ]
  },
  {
   "cell_type": "code",
   "execution_count": null,
   "metadata": {},
   "outputs": [],
   "source": [
    "# 100以下关注数和关注者数空间分布\n",
    "fig = plt.figure()  \n",
    "ax = Axes3D(fig)\n",
    "\n",
    "# 生成网格上所有点\n",
    "start = 0 # 起始点\n",
    "stop = 1000 # 终止点\n",
    "step = int(stop/50) # 步长\n",
    "X = np.arange(start, stop, step)\n",
    "Y = np.arange(start, stop, step)  \n",
    "X, Y = np.meshgrid(X, Y)\n",
    "\n",
    "Z = np.zeros_like(X)\n",
    "for i in list2:\n",
    "    if i[0] >= start and i[0] < stop and i[1] >= start and i[1] < stop:\n",
    "        Z[int((i[0]-start)/step),int((i[1]-start)/step)] += 1\n",
    "Z = Z**0.25\n",
    "ls = matplotlib.colors.LightSource(270, -60)\n",
    "rgb = ls.shade(Z, cmap=plt.cm.gist_earth_r,vert_exag=0.1, blend_mode='soft')\n",
    "ax.plot_surface(X, Y, Z, rstride=1, cstride=1, facecolors=rgb,linewidth=0, antialiased=True, shade=True)\n",
    "\n",
    "\n",
    "zticks = np.arange(0, Z.max(), int(Z.max()/5))  \n",
    "zlabels = [int(x**4) for x in zticks]\n",
    "ax.set_zticks(zticks)\n",
    "ax.set_zticklabels(zlabels)\n",
    "plt.show()  "
   ]
  },
  {
   "cell_type": "code",
   "execution_count": 125,
   "metadata": {},
   "outputs": [
    {
     "data": {
      "text/plain": [
       "23889"
      ]
     },
     "execution_count": 125,
     "metadata": {},
     "output_type": "execute_result"
    }
   ],
   "source": []
  },
  {
   "cell_type": "code",
   "execution_count": null,
   "metadata": {
    "collapsed": true
   },
   "outputs": [],
   "source": []
  }
 ],
 "metadata": {
  "kernelspec": {
   "display_name": "Python 3",
   "language": "python",
   "name": "python3"
  },
  "language_info": {
   "codemirror_mode": {
    "name": "ipython",
    "version": 3
   },
   "file_extension": ".py",
   "mimetype": "text/x-python",
   "name": "python",
   "nbconvert_exporter": "python",
   "pygments_lexer": "ipython3",
   "version": "3.6.1"
  }
 },
 "nbformat": 4,
 "nbformat_minor": 2
}
