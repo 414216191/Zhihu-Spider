{
 "cells": [
  {
   "cell_type": "code",
   "execution_count": null,
   "metadata": {
    "collapsed": true
   },
   "outputs": [],
   "source": [
    "import matplotlib\n",
    "matplotlib.use('TkAgg')\n",
    "import matplotlib.pyplot as plt  \n",
    "import matplotlib.cbook as cbook\n",
    "import numpy as np\n",
    "import os\n",
    "import sys\n",
    "import requests\n",
    "import json\n",
    "import datawash"
   ]
  },
  {
   "cell_type": "code",
   "execution_count": null,
   "metadata": {
    "collapsed": true
   },
   "outputs": [],
   "source": [
    "AKEY = 'Pt15VZ8Msk0fjKO4SXLUD58CiwbOOZ0P'\n",
    "def get_coord(address):\n",
    "    \"\"\"从百度地图API获取地址对应的坐标。\n",
    "    \"\"\"\n",
    "    response = requests.get('http://api.map.baidu.com/geocoder/v2/?address=' + address \n",
    "                            + '&ak=' + AKEY + '&output=json')\n",
    "    address_dict = json.loads(response.text)\n",
    "    return address_dict\n",
    "\n",
    "def get_map():\n",
    "    \"\"\"从百度地图API获取地图并存储\n",
    "    \"\"\"\n",
    "    width = '1024'\n",
    "    height = '768'\n",
    "    centerlng = 105.0\n",
    "    centerlat = 37.0\n",
    "    response = requests.get('http://api.map.baidu.com/staticimage/v2?ak=' + AKEY\n",
    "                            + '&width='+ width + '&height='+ height\n",
    "                            + '&zoom=5&center=' + str(centerlng)+','+str(centerlat))\n",
    "    with open(os.path.join('image','map.png'),'wb') as img:\n",
    "        img.write(response.content)\n",
    "    edge = {'left':67.177, 'right':142.606,'top':56.269,'bottom':11.467}\n",
    "    return os.path.abspath('map.png'),edge"
   ]
  },
  {
   "cell_type": "code",
   "execution_count": null,
   "metadata": {
    "collapsed": true
   },
   "outputs": [],
   "source": [
    "# 遍历所有用户，读取需要的信息\n",
    "locationslist = list()\n",
    "\n",
    "jsons = datawash.datajsons()\n",
    "for user in jsons:\n",
    "    try:\n",
    "        locationslist.append(user['locations'][0]['name'])\n",
    "    except:\n",
    "        pass"
   ]
  },
  {
   "cell_type": "code",
   "execution_count": null,
   "metadata": {
    "collapsed": true
   },
   "outputs": [],
   "source": [
    "# 批量获取坐标\n",
    "coord_dict = dict()\n",
    "templist = list(set(locationslist))\n",
    "for loc in templist:\n",
    "    coord_dict[loc] = get_coord(loc)"
   ]
  },
  {
   "cell_type": "code",
   "execution_count": null,
   "metadata": {},
   "outputs": [],
   "source": [
    "print(len(coord_dict))"
   ]
  },
  {
   "cell_type": "code",
   "execution_count": null,
   "metadata": {},
   "outputs": [],
   "source": [
    "print(coord_dict)"
   ]
  },
  {
   "cell_type": "code",
   "execution_count": null,
   "metadata": {},
   "outputs": [],
   "source": [
    "# 获取地图\n",
    "img = get_map()\n",
    "imgfile = img[0]\n",
    "imgedge = img[1]\n",
    "# 绘制地图\n",
    "image_file = cbook.get_sample_data(imgfile)  \n",
    "image = plt.imread(image_file)\n",
    "fig, ax= plt.subplots(1,1)\n",
    "ax.imshow(image)\n",
    "# 绘制用户分布\n",
    "# 'lng':data['result']['location']['lng']\n",
    "# 'lat':data['result']['location']['lat']\n",
    "x = list()\n",
    "y = list()\n",
    "\n",
    "d = [11.467, 22.195, 32.429, 41.558, 49.36, 56.269]\n",
    "for loc in locationslist:\n",
    "    if coord_dict[loc]['status'] == 0:\n",
    "        lng = coord_dict[loc]['result']['location']['lng']\n",
    "        lat = coord_dict[loc]['result']['location']['lat']\n",
    "        tempx =((lng-imgedge['left'])/(imgedge['right']-imgedge['left'])) * 1024\n",
    "        for i in range(len(d)-1):\n",
    "            if lat > d[i] and lat <= d[i+1]:\n",
    "                tempy = (((d[i+1]-lat)/(d[i+1]-d[i]))/5.0+(1-(i+1)/5.0))*768\n",
    "        x.append(tempx)\n",
    "        y.append(tempy)\n",
    "\n",
    "x = np.array(x)\n",
    "y = np.array(y)\n",
    "ax.scatter(x, y, color='#FF8C00',alpha=0.1, edgecolors='none')\n",
    "ax.axis('off')\n",
    "fig.show()"
   ]
  },
  {
   "cell_type": "code",
   "execution_count": null,
   "metadata": {
    "collapsed": true
   },
   "outputs": [],
   "source": [
    "fig, ax= plt.subplots(1,1)\n",
    "ax.plot(np.array([11.476,22.195,32.429,41.558,49.36,56.269]))\n",
    "fig.show()"
   ]
  }
 ],
 "metadata": {
  "kernelspec": {
   "display_name": "Python 3",
   "language": "python",
   "name": "python3"
  },
  "language_info": {
   "codemirror_mode": {
    "name": "ipython",
    "version": 3
   },
   "file_extension": ".py",
   "mimetype": "text/x-python",
   "name": "python",
   "nbconvert_exporter": "python",
   "pygments_lexer": "ipython3",
   "version": "3.6.1"
  }
 },
 "nbformat": 4,
 "nbformat_minor": 2
}
